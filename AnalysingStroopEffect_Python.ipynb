{
 "cells": [
  {
   "cell_type": "markdown",
   "metadata": {},
   "source": [
    "### Analyzing the Stroop Effect\n",
    "The project involved investigated a classic phenomenon from experimental psychology called the Stroop Effect. It basically involves making patients read colors that are written in the same color as their spelling (referred as congruent) and incongruent reading as well. According to the study, incongruent takes more time than congruent reading. We were given experimental data from 24 patients and then created a hypothesis. Them, I computed some statistics describing the results. Finally, results were interpreted in terms of my hypotheses. The objective of the project was to learn to identify components of an experiment, to use descriptive statistics to describe qualities of a sample, to set up a hypothesis test, make inferences from a sample, and draw conclusions based on the results."
   ]
  },
  {
   "cell_type": "markdown",
   "metadata": {},
   "source": [
    "### Let's first identify dependent and independent variable\n",
    "Reaction time for both the congruent and incongruent conditions is the dependent variable. The independent variable is the variable which you alter to control the experiment. In this case, the independent variable is the condition of colors being congruent or incongruent to the text."
   ]
  },
  {
   "cell_type": "markdown",
   "metadata": {},
   "source": [
    "### Next, lets identify the hypotheses for this task and kinds of statistical test we will perform"
   ]
  },
  {
   "cell_type": "markdown",
   "metadata": {},
   "source": [
    "For this dataset, the number of samples are 24, since they are less than 30 and no information is given about underlying population we cannot assume normal distribution of the sampling distribution. Thus, t-test will be the best test for this. Further, since the dataset is not independent, same person is doing both sets, we will do a paired test on this set.\n",
    "An appropriate null hypothesis will be that there is no difference between the congruent time and incongruent time and the alternate will be the result of strop effect that is the congruent and incongruent times are not equal. In mathematical terms, \n",
    "<br>\n",
    "$H_o : \\mu _c = \\mu _i $  <br>\n",
    "$H_1 : \\mu _c \\neq \\mu _i $  <br>\n",
    "Here $\\mu_c$ denotes the mean time for congruent colors and $\\mu_i$ denotes the mean time for incongruent colors by any participant in the population. We are trying to understand and hypothesise about our underlying population from the statistcial data."
   ]
  },
  {
   "cell_type": "markdown",
   "metadata": {},
   "source": [
    "### Let's discuss some descriptive statistics regarding this dataset"
   ]
  },
  {
   "cell_type": "code",
   "execution_count": 2,
   "metadata": {},
   "outputs": [
    {
     "name": "stdout",
     "output_type": "stream",
     "text": [
      "   Congruent  Incongruent\n",
      "0     12.079       19.278\n",
      "1     16.791       18.741\n",
      "2      9.564       21.214\n"
     ]
    },
    {
     "data": {
      "text/html": [
       "<div>\n",
       "<style scoped>\n",
       "    .dataframe tbody tr th:only-of-type {\n",
       "        vertical-align: middle;\n",
       "    }\n",
       "\n",
       "    .dataframe tbody tr th {\n",
       "        vertical-align: top;\n",
       "    }\n",
       "\n",
       "    .dataframe thead th {\n",
       "        text-align: right;\n",
       "    }\n",
       "</style>\n",
       "<table border=\"1\" class=\"dataframe\">\n",
       "  <thead>\n",
       "    <tr style=\"text-align: right;\">\n",
       "      <th></th>\n",
       "      <th>Congruent</th>\n",
       "      <th>Incongruent</th>\n",
       "    </tr>\n",
       "  </thead>\n",
       "  <tbody>\n",
       "    <tr>\n",
       "      <th>count</th>\n",
       "      <td>24.000000</td>\n",
       "      <td>24.000000</td>\n",
       "    </tr>\n",
       "    <tr>\n",
       "      <th>mean</th>\n",
       "      <td>14.051125</td>\n",
       "      <td>22.015917</td>\n",
       "    </tr>\n",
       "    <tr>\n",
       "      <th>std</th>\n",
       "      <td>3.559358</td>\n",
       "      <td>4.797057</td>\n",
       "    </tr>\n",
       "    <tr>\n",
       "      <th>min</th>\n",
       "      <td>8.630000</td>\n",
       "      <td>15.687000</td>\n",
       "    </tr>\n",
       "    <tr>\n",
       "      <th>25%</th>\n",
       "      <td>11.895250</td>\n",
       "      <td>18.716750</td>\n",
       "    </tr>\n",
       "    <tr>\n",
       "      <th>50%</th>\n",
       "      <td>14.356500</td>\n",
       "      <td>21.017500</td>\n",
       "    </tr>\n",
       "    <tr>\n",
       "      <th>75%</th>\n",
       "      <td>16.200750</td>\n",
       "      <td>24.051500</td>\n",
       "    </tr>\n",
       "    <tr>\n",
       "      <th>max</th>\n",
       "      <td>22.328000</td>\n",
       "      <td>35.255000</td>\n",
       "    </tr>\n",
       "  </tbody>\n",
       "</table>\n",
       "</div>"
      ],
      "text/plain": [
       "       Congruent  Incongruent\n",
       "count  24.000000    24.000000\n",
       "mean   14.051125    22.015917\n",
       "std     3.559358     4.797057\n",
       "min     8.630000    15.687000\n",
       "25%    11.895250    18.716750\n",
       "50%    14.356500    21.017500\n",
       "75%    16.200750    24.051500\n",
       "max    22.328000    35.255000"
      ]
     },
     "execution_count": 2,
     "metadata": {},
     "output_type": "execute_result"
    }
   ],
   "source": [
    "## Import all packages here\n",
    "import pandas as pd\n",
    "import numpy as np\n",
    "## read the datafile\n",
    "df = pd.read_csv('stroopdata.csv')\n",
    "print(df.head(3))\n",
    "df.describe()"
   ]
  },
  {
   "cell_type": "markdown",
   "metadata": {},
   "source": [
    "From the statistics above it is clear that the mean for the incongruent is more than that of congurent. The standard deviation of incongurent is also more than that of congurent indicating mroe variability in the data"
   ]
  },
  {
   "cell_type": "markdown",
   "metadata": {},
   "source": [
    "### Discuss the the distribution of the sample data"
   ]
  },
  {
   "cell_type": "code",
   "execution_count": 16,
   "metadata": {},
   "outputs": [
    {
     "data": {
      "image/png": "[encoded data removed]",
      "text/plain": [
       "<matplotlib.figure.Figure at 0x7f8c8e7bbcc0>"
      ]
     },
     "metadata": {},
     "output_type": "display_data"
    }
   ],
   "source": [
    "# Build the visualizations here\n",
    "import matplotlib.pyplot as plt\n",
    "% matplotlib inline\n",
    "plt.hist(df['Congruent'], alpha=0.5, label='Congruent')\n",
    "plt.hist(df['Incongruent'], alpha=0.5, label='Incongruent')\n",
    "plt.legend(loc='upper right')\n",
    "plt.xlabel\n",
    "plt.show()"
   ]
  },
  {
   "cell_type": "markdown",
   "metadata": {},
   "source": [
    "--As can be seen in the visualization above, the time for incongruent is much higher than the congruent time which shows the odds in favor of alternate hypothesis. More will be clear with the statistics test in the next step where we will be able to tell the confidence level--"
   ]
  },
  {
   "cell_type": "markdown",
   "metadata": {},
   "source": [
    "###  Now, let us perform the statistical test and report the results - confidence level and critical statistic value"
   ]
  },
  {
   "cell_type": "code",
   "execution_count": 3,
   "metadata": {},
   "outputs": [
    {
     "data": {
      "text/plain": [
       "Ttest_relResult(statistic=-8.020706944109957, pvalue=4.1030005857111781e-08)"
      ]
     },
     "execution_count": 3,
     "metadata": {},
     "output_type": "execute_result"
    }
   ],
   "source": [
    "# Perform the statistical test here\n",
    "from scipy import stats\n",
    "stats.ttest_rel(df['Congruent'],df['Incongruent'])"
   ]
  },
  {
   "cell_type": "markdown",
   "metadata": {},
   "source": [
    "The large value of the statistic and the small p-value both indicate that we can reject the null hypothesis in favor of the alternate hypothesis. Thus, we can conclude from the experimental data that the incongruent time is higher than the congruent time. This is more commonly known as stroop effect. The results do match the expectations.\n",
    "Stroop effect has been explained by scientists in many ways as below:\n",
    "a. Processing Speed - Brain can process words faster than it can process color of an object and thus when incongruent, it takes time\n",
    "b. Selective Attention theory - This says that it takes more attention to identify color rther than read\n",
    "c. Automatciity - Acc to this theory, brian automatically reads and there is some hesitancy to recongnise colors."
   ]
  }
 ],
 "metadata": {
  "kernelspec": {
   "display_name": "Python 3",
   "language": "python",
   "name": "python3"
  },
  "language_info": {
   "codemirror_mode": {
    "name": "ipython",
    "version": 3
   },
   "file_extension": ".py",
   "mimetype": "text/x-python",
   "name": "python",
   "nbconvert_exporter": "python",
   "pygments_lexer": "ipython3",
   "version": "3.6.3"
  }
 },
 "nbformat": 4,
 "nbformat_minor": 2
}
